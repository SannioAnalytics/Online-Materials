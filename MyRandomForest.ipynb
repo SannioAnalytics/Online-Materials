{
 "cells": [
  {
   "cell_type": "code",
   "execution_count": 7,
   "metadata": {},
   "outputs": [],
   "source": [
    "import numpy as np\n",
    "import scipy as sp\n",
    "from sklearn.base import BaseEstimator\n",
    "from sklearn.tree import DecisionTreeClassifier\n",
    "from sklearn.datasets import load_digits\n",
    "from sklearn.model_selection import cross_val_score\n",
    "\n",
    "digits = load_digits()"
   ]
  },
  {
   "cell_type": "code",
   "execution_count": 9,
   "metadata": {
    "collapsed": false,
    "jupyter": {
     "outputs_hidden": false
    }
   },
   "outputs": [
    {
     "data": {
      "text/plain": [
       "0.8258069522036002"
      ]
     },
     "execution_count": 9,
     "metadata": {},
     "output_type": "execute_result"
    }
   ],
   "source": [
    "# Normal Decision Tree\n",
    "tree = DecisionTreeClassifier()\n",
    "cross_val_score(tree, digits.data, digits.target, cv=10, scoring=\"accuracy\").mean()"
   ]
  },
  {
   "cell_type": "code",
   "execution_count": 11,
   "metadata": {
    "collapsed": false,
    "jupyter": {
     "outputs_hidden": false
    }
   },
   "outputs": [
    {
     "data": {
      "text/plain": [
       "0.949897579143389"
      ]
     },
     "execution_count": 11,
     "metadata": {},
     "output_type": "execute_result"
    }
   ],
   "source": [
    "# Scikit-learn implementation of Random Forest\n",
    "from sklearn.ensemble import RandomForestClassifier\n",
    "rf = RandomForestClassifier(n_estimators=100)\n",
    "cross_val_score(rf, digits.data, digits.target, cv=10, scoring=\"accuracy\").mean()"
   ]
  },
  {
   "cell_type": "code",
   "execution_count": 12,
   "metadata": {
    "collapsed": false,
    "jupyter": {
     "outputs_hidden": false
    }
   },
   "outputs": [],
   "source": [
    "# Your implementation of Random Forest\n",
    "class MyRandomForest(BaseEstimator):\n",
    "\n",
    "    def __init__(self, n_estimators=100):\n",
    "        self.n_estimators = n_estimators # number of trees to fit\n",
    "        self.trees = []                  # list to store the fitted trees\n",
    "        \n",
    "    def fit(self, X, y):\n",
    "        # fit n_estimators DecisionTreeClassifiers (with max_features=\"sqrt\")\n",
    "        # on a randomized bootstrap of the data\n",
    "        \n",
    "        # hint: use function numpy.random.choice() to generate boostrap sample\n",
    "        # hint: for loop\n",
    "        # hint: self.trees.append()\n",
    "        \n",
    "        n = len(X)\n",
    "        \n",
    "        for i in range(self.n_estimators):\n",
    "            ix = np.random.choice(n, n)\n",
    "            tree = DecisionTreeClassifier(max_features=\"sqrt\")\n",
    "            tree.fit(X[ix,:], y[ix])\n",
    "            self.trees.append(tree)\n",
    "        \n",
    "        return self\n",
    "        \n",
    "    def predict(self, X):\n",
    "        # Use the DecisionTreeClassifiers to predict values\n",
    "        # hint: loop over fitted trees\n",
    "        # hint: store all predictions in a matrix,\n",
    "        #       then determine majority vote with function scipy.stats.mode() (see cell below for an example)\n",
    "        \n",
    "        predictions = np.zeros((len(X), self.n_estimators))\n",
    "        \n",
    "        for i in range(self.n_estimators):\n",
    "            predictions[:,i] = self.trees[i].predict(X)        \n",
    "        \n",
    "        return sp.stats.mode(predictions, axis = 1)[0].ravel()"
   ]
  },
  {
   "cell_type": "code",
   "execution_count": 13,
   "metadata": {
    "collapsed": false,
    "jupyter": {
     "outputs_hidden": false
    }
   },
   "outputs": [
    {
     "name": "stdout",
     "output_type": "stream",
     "text": [
      "[[9 0 3 5 3]\n",
      " [1 1 1 6 8]\n",
      " [5 7 2 8 1]\n",
      " [6 4 6 4 5]\n",
      " [3 0 8 8 1]\n",
      " [5 0 6 2 7]\n",
      " [0 2 5 2 3]\n",
      " [7 4 4 5 6]\n",
      " [2 8 5 5 3]\n",
      " [2 4 2 5 5]\n",
      " [8 1 7 5 1]\n",
      " [9 3 9 4 4]\n",
      " [0 9 5 3 1]\n",
      " [5 9 3 8 5]\n",
      " [4 4 7 6 1]\n",
      " [0 7 0 6 4]\n",
      " [5 7 9 7 6]\n",
      " [4 1 1 0 6]\n",
      " [4 0 7 8 1]\n",
      " [1 8 9 5 6]]\n"
     ]
    },
    {
     "data": {
      "text/plain": [
       "array([3, 1, 1, 4, 8, 0, 2, 4, 5, 2, 1, 4, 0, 5, 4, 0, 7, 1, 0, 1])"
      ]
     },
     "execution_count": 13,
     "metadata": {},
     "output_type": "execute_result"
    }
   ],
   "source": [
    "predictions = np.random.choice(10, (20, 5)) # 20 data points, 5 trees\n",
    "print(predictions)\n",
    "sp.stats.mode(predictions, axis = 1)[0].ravel()"
   ]
  },
  {
   "cell_type": "code",
   "execution_count": 14,
   "metadata": {
    "collapsed": false,
    "jupyter": {
     "outputs_hidden": false
    }
   },
   "outputs": [
    {
     "data": {
      "text/plain": [
       "0.9526939788950962"
      ]
     },
     "execution_count": 14,
     "metadata": {},
     "output_type": "execute_result"
    }
   ],
   "source": [
    "# Test MyRandomForest\n",
    "mrf = MyRandomForest()\n",
    "cross_val_score(mrf, digits.data, digits.target, cv=10, scoring=\"accuracy\").mean()"
   ]
  }
 ],
 "metadata": {
  "kernelspec": {
   "display_name": "Python [conda env:anaconda3]",
   "language": "python",
   "name": "conda-env-anaconda3-py"
  },
  "language_info": {
   "codemirror_mode": {
    "name": "ipython",
    "version": 3
   },
   "file_extension": ".py",
   "mimetype": "text/x-python",
   "name": "python",
   "nbconvert_exporter": "python",
   "pygments_lexer": "ipython3",
   "version": "3.7.4"
  }
 },
 "nbformat": 4,
 "nbformat_minor": 4
}
